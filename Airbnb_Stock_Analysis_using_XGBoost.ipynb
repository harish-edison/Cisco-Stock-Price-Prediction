{
  "cells": [
    {
      "cell_type": "markdown",
      "metadata": {
        "id": "pZXQzjd1-O3O"
      },
      "source": [
        "Airbnb Stock Analysis and Prediction\n",
        "\n",
        "We will be looking at Airbnb's Stock Market data from 2020-present. We will analyse the performance of the stock over the years and will predict the stock prices of the near future using XGBoost Regression.\n",
        "\n",
        "We will use numpy and pandas for manipulation of the data along the way and use scaling and transformation libraries to learn about data transformation.\n",
        "\n",
        "We'll be finding the following patterns and trends:\n",
        "\n",
        "\n",
        "\n",
        "1.   Change in stock price over time.\n",
        "2.   Daily average return of the stock.\n",
        "3.   Moving average of the stock.\n",
        "4.   Correlation between close price and other indicators.\n",
        "5.   Predict future stock behavior using XGBoost.\n"
      ]
    },
    {
      "cell_type": "markdown",
      "metadata": {
        "id": "sCEDRR_u9q5Z"
      },
      "source": [
        "**Importing Libraries**"
      ]
    },
    {
      "cell_type": "code",
      "execution_count": 121,
      "metadata": {
        "id": "rdeCETCfhJkL"
      },
      "outputs": [],
      "source": [
        "#Data manipulation and data visualization libareies\n",
        "import pandas as pd\n",
        "import numpy as np\n",
        "from numpy import asarray\n",
        "import matplotlib.pyplot as plt\n",
        "import seaborn as sns\n",
        "%matplotlib inline\n",
        "\n",
        "# For time stamps\n",
        "from datetime import datetime\n",
        "\n",
        "#Pre-processing Libraries\n",
        "from sklearn.preprocessing import MinMaxScaler\n",
        "\n",
        "#ML libraries\n",
        "from sklearn.model_selection import train_test_split\n",
        "from xgboost import XGBRegressor\n"
      ]
    },
    {
      "cell_type": "markdown",
      "metadata": {
        "id": "dQQjZoULAAFn"
      },
      "source": [
        "**Data Extraction**\n",
        "\n",
        "The dataset was retrieved from Kaggle.\n",
        "Link: [Airbnb Inc. Stock Market Dataset](https://www.kaggle.com/datasets/whenamancodes/airbnb-inc-stock-market-analysis)"
      ]
    },
    {
      "cell_type": "code",
      "execution_count": 122,
      "metadata": {
        "colab": {
          "base_uri": "https://localhost:8080/",
          "height": 423
        },
        "id": "JDU0TvLqhWRC",
        "outputId": "acd10e8c-0445-4aed-cae5-ab825a07a9ae"
      },
      "outputs": [
        {
          "data": {
            "text/html": [
              "\n",
              "  <div id=\"df-c53ce714-bbba-4b4c-b011-8e24e8e955c3\">\n",
              "    <div class=\"colab-df-container\">\n",
              "      <div>\n",
              "<style scoped>\n",
              "    .dataframe tbody tr th:only-of-type {\n",
              "        vertical-align: middle;\n",
              "    }\n",
              "\n",
              "    .dataframe tbody tr th {\n",
              "        vertical-align: top;\n",
              "    }\n",
              "\n",
              "    .dataframe thead th {\n",
              "        text-align: right;\n",
              "    }\n",
              "</style>\n",
              "<table border=\"1\" class=\"dataframe\">\n",
              "  <thead>\n",
              "    <tr style=\"text-align: right;\">\n",
              "      <th></th>\n",
              "      <th>Date</th>\n",
              "      <th>Open</th>\n",
              "      <th>High</th>\n",
              "      <th>Low</th>\n",
              "      <th>Close</th>\n",
              "      <th>Adj Close</th>\n",
              "      <th>Volume</th>\n",
              "    </tr>\n",
              "  </thead>\n",
              "  <tbody>\n",
              "    <tr>\n",
              "      <th>0</th>\n",
              "      <td>12/11/2020</td>\n",
              "      <td>146.550003</td>\n",
              "      <td>151.500000</td>\n",
              "      <td>135.100006</td>\n",
              "      <td>139.250000</td>\n",
              "      <td>139.250000</td>\n",
              "      <td>26980800</td>\n",
              "    </tr>\n",
              "    <tr>\n",
              "      <th>1</th>\n",
              "      <td>12/14/2020</td>\n",
              "      <td>135.000000</td>\n",
              "      <td>135.300003</td>\n",
              "      <td>125.160004</td>\n",
              "      <td>130.000000</td>\n",
              "      <td>130.000000</td>\n",
              "      <td>16966100</td>\n",
              "    </tr>\n",
              "    <tr>\n",
              "      <th>2</th>\n",
              "      <td>12/15/2020</td>\n",
              "      <td>126.690002</td>\n",
              "      <td>127.599998</td>\n",
              "      <td>121.500000</td>\n",
              "      <td>124.800003</td>\n",
              "      <td>124.800003</td>\n",
              "      <td>10914400</td>\n",
              "    </tr>\n",
              "    <tr>\n",
              "      <th>3</th>\n",
              "      <td>12/16/2020</td>\n",
              "      <td>125.830002</td>\n",
              "      <td>142.000000</td>\n",
              "      <td>124.910004</td>\n",
              "      <td>137.990005</td>\n",
              "      <td>137.990005</td>\n",
              "      <td>20409600</td>\n",
              "    </tr>\n",
              "    <tr>\n",
              "      <th>4</th>\n",
              "      <td>12/17/2020</td>\n",
              "      <td>143.000000</td>\n",
              "      <td>152.449997</td>\n",
              "      <td>142.669998</td>\n",
              "      <td>147.050003</td>\n",
              "      <td>147.050003</td>\n",
              "      <td>15054700</td>\n",
              "    </tr>\n",
              "    <tr>\n",
              "      <th>...</th>\n",
              "      <td>...</td>\n",
              "      <td>...</td>\n",
              "      <td>...</td>\n",
              "      <td>...</td>\n",
              "      <td>...</td>\n",
              "      <td>...</td>\n",
              "      <td>...</td>\n",
              "    </tr>\n",
              "    <tr>\n",
              "      <th>449</th>\n",
              "      <td>9/26/2022</td>\n",
              "      <td>101.779999</td>\n",
              "      <td>105.360001</td>\n",
              "      <td>101.559998</td>\n",
              "      <td>103.230003</td>\n",
              "      <td>103.230003</td>\n",
              "      <td>5278800</td>\n",
              "    </tr>\n",
              "    <tr>\n",
              "      <th>450</th>\n",
              "      <td>9/27/2022</td>\n",
              "      <td>106.040001</td>\n",
              "      <td>108.169998</td>\n",
              "      <td>104.139999</td>\n",
              "      <td>106.370003</td>\n",
              "      <td>106.370003</td>\n",
              "      <td>5081000</td>\n",
              "    </tr>\n",
              "    <tr>\n",
              "      <th>451</th>\n",
              "      <td>9/28/2022</td>\n",
              "      <td>106.700996</td>\n",
              "      <td>111.129997</td>\n",
              "      <td>105.779999</td>\n",
              "      <td>110.690002</td>\n",
              "      <td>110.690002</td>\n",
              "      <td>4518200</td>\n",
              "    </tr>\n",
              "    <tr>\n",
              "      <th>452</th>\n",
              "      <td>9/29/2022</td>\n",
              "      <td>109.190002</td>\n",
              "      <td>109.474998</td>\n",
              "      <td>105.169998</td>\n",
              "      <td>106.660004</td>\n",
              "      <td>106.660004</td>\n",
              "      <td>4259500</td>\n",
              "    </tr>\n",
              "    <tr>\n",
              "      <th>453</th>\n",
              "      <td>9/30/2022</td>\n",
              "      <td>104.760002</td>\n",
              "      <td>109.080002</td>\n",
              "      <td>104.730003</td>\n",
              "      <td>105.040001</td>\n",
              "      <td>105.040001</td>\n",
              "      <td>4747800</td>\n",
              "    </tr>\n",
              "  </tbody>\n",
              "</table>\n",
              "<p>454 rows × 7 columns</p>\n",
              "</div>\n",
              "      <button class=\"colab-df-convert\" onclick=\"convertToInteractive('df-c53ce714-bbba-4b4c-b011-8e24e8e955c3')\"\n",
              "              title=\"Convert this dataframe to an interactive table.\"\n",
              "              style=\"display:none;\">\n",
              "        \n",
              "  <svg xmlns=\"http://www.w3.org/2000/svg\" height=\"24px\"viewBox=\"0 0 24 24\"\n",
              "       width=\"24px\">\n",
              "    <path d=\"M0 0h24v24H0V0z\" fill=\"none\"/>\n",
              "    <path d=\"M18.56 5.44l.94 2.06.94-2.06 2.06-.94-2.06-.94-.94-2.06-.94 2.06-2.06.94zm-11 1L8.5 8.5l.94-2.06 2.06-.94-2.06-.94L8.5 2.5l-.94 2.06-2.06.94zm10 10l.94 2.06.94-2.06 2.06-.94-2.06-.94-.94-2.06-.94 2.06-2.06.94z\"/><path d=\"M17.41 7.96l-1.37-1.37c-.4-.4-.92-.59-1.43-.59-.52 0-1.04.2-1.43.59L10.3 9.45l-7.72 7.72c-.78.78-.78 2.05 0 2.83L4 21.41c.39.39.9.59 1.41.59.51 0 1.02-.2 1.41-.59l7.78-7.78 2.81-2.81c.8-.78.8-2.07 0-2.86zM5.41 20L4 18.59l7.72-7.72 1.47 1.35L5.41 20z\"/>\n",
              "  </svg>\n",
              "      </button>\n",
              "      \n",
              "  <style>\n",
              "    .colab-df-container {\n",
              "      display:flex;\n",
              "      flex-wrap:wrap;\n",
              "      gap: 12px;\n",
              "    }\n",
              "\n",
              "    .colab-df-convert {\n",
              "      background-color: #E8F0FE;\n",
              "      border: none;\n",
              "      border-radius: 50%;\n",
              "      cursor: pointer;\n",
              "      display: none;\n",
              "      fill: #1967D2;\n",
              "      height: 32px;\n",
              "      padding: 0 0 0 0;\n",
              "      width: 32px;\n",
              "    }\n",
              "\n",
              "    .colab-df-convert:hover {\n",
              "      background-color: #E2EBFA;\n",
              "      box-shadow: 0px 1px 2px rgba(60, 64, 67, 0.3), 0px 1px 3px 1px rgba(60, 64, 67, 0.15);\n",
              "      fill: #174EA6;\n",
              "    }\n",
              "\n",
              "    [theme=dark] .colab-df-convert {\n",
              "      background-color: #3B4455;\n",
              "      fill: #D2E3FC;\n",
              "    }\n",
              "\n",
              "    [theme=dark] .colab-df-convert:hover {\n",
              "      background-color: #434B5C;\n",
              "      box-shadow: 0px 1px 3px 1px rgba(0, 0, 0, 0.15);\n",
              "      filter: drop-shadow(0px 1px 2px rgba(0, 0, 0, 0.3));\n",
              "      fill: #FFFFFF;\n",
              "    }\n",
              "  </style>\n",
              "\n",
              "      <script>\n",
              "        const buttonEl =\n",
              "          document.querySelector('#df-c53ce714-bbba-4b4c-b011-8e24e8e955c3 button.colab-df-convert');\n",
              "        buttonEl.style.display =\n",
              "          google.colab.kernel.accessAllowed ? 'block' : 'none';\n",
              "\n",
              "        async function convertToInteractive(key) {\n",
              "          const element = document.querySelector('#df-c53ce714-bbba-4b4c-b011-8e24e8e955c3');\n",
              "          const dataTable =\n",
              "            await google.colab.kernel.invokeFunction('convertToInteractive',\n",
              "                                                     [key], {});\n",
              "          if (!dataTable) return;\n",
              "\n",
              "          const docLinkHtml = 'Like what you see? Visit the ' +\n",
              "            '<a target=\"_blank\" href=https://colab.research.google.com/notebooks/data_table.ipynb>data table notebook</a>'\n",
              "            + ' to learn more about interactive tables.';\n",
              "          element.innerHTML = '';\n",
              "          dataTable['output_type'] = 'display_data';\n",
              "          await google.colab.output.renderOutput(dataTable, element);\n",
              "          const docLink = document.createElement('div');\n",
              "          docLink.innerHTML = docLinkHtml;\n",
              "          element.appendChild(docLink);\n",
              "        }\n",
              "      </script>\n",
              "    </div>\n",
              "  </div>\n",
              "  "
            ],
            "text/plain": [
              "           Date        Open        High         Low       Close   Adj Close  \\\n",
              "0    12/11/2020  146.550003  151.500000  135.100006  139.250000  139.250000   \n",
              "1    12/14/2020  135.000000  135.300003  125.160004  130.000000  130.000000   \n",
              "2    12/15/2020  126.690002  127.599998  121.500000  124.800003  124.800003   \n",
              "3    12/16/2020  125.830002  142.000000  124.910004  137.990005  137.990005   \n",
              "4    12/17/2020  143.000000  152.449997  142.669998  147.050003  147.050003   \n",
              "..          ...         ...         ...         ...         ...         ...   \n",
              "449   9/26/2022  101.779999  105.360001  101.559998  103.230003  103.230003   \n",
              "450   9/27/2022  106.040001  108.169998  104.139999  106.370003  106.370003   \n",
              "451   9/28/2022  106.700996  111.129997  105.779999  110.690002  110.690002   \n",
              "452   9/29/2022  109.190002  109.474998  105.169998  106.660004  106.660004   \n",
              "453   9/30/2022  104.760002  109.080002  104.730003  105.040001  105.040001   \n",
              "\n",
              "       Volume  \n",
              "0    26980800  \n",
              "1    16966100  \n",
              "2    10914400  \n",
              "3    20409600  \n",
              "4    15054700  \n",
              "..        ...  \n",
              "449   5278800  \n",
              "450   5081000  \n",
              "451   4518200  \n",
              "452   4259500  \n",
              "453   4747800  \n",
              "\n",
              "[454 rows x 7 columns]"
            ]
          },
          "execution_count": 122,
          "metadata": {},
          "output_type": "execute_result"
        }
      ],
      "source": [
        "ABNB=pd.read_csv('ABNB.csv')\n",
        "ABNB"
      ]
    },
    {
      "cell_type": "markdown",
      "metadata": {
        "id": "ZL9I8eK1And9"
      },
      "source": [
        "Counting the number of records in the file to verify it has loaded correctly"
      ]
    },
    {
      "cell_type": "code",
      "execution_count": 123,
      "metadata": {
        "colab": {
          "base_uri": "https://localhost:8080/"
        },
        "id": "TYXvPC-nhvwg",
        "outputId": "f2bcbcff-632e-4d39-b97c-3a487b0c71fc"
      },
      "outputs": [
        {
          "data": {
            "text/plain": [
              "Date         454\n",
              "Open         454\n",
              "High         454\n",
              "Low          454\n",
              "Close        454\n",
              "Adj Close    454\n",
              "Volume       454\n",
              "dtype: int64"
            ]
          },
          "execution_count": 123,
          "metadata": {},
          "output_type": "execute_result"
        }
      ],
      "source": [
        "ABNB.count()"
      ]
    },
    {
      "cell_type": "markdown",
      "metadata": {
        "id": "rwnuWrRsA_kt"
      },
      "source": [
        "**Information on the data types of the column**"
      ]
    },
    {
      "cell_type": "code",
      "execution_count": 124,
      "metadata": {
        "colab": {
          "base_uri": "https://localhost:8080/"
        },
        "id": "CtJZqp0SBAZb",
        "outputId": "e5feaff5-e888-4ef9-b098-29cd725c8daf"
      },
      "outputs": [
        {
          "name": "stdout",
          "output_type": "stream",
          "text": [
            "<class 'pandas.core.frame.DataFrame'>\n",
            "RangeIndex: 454 entries, 0 to 453\n",
            "Data columns (total 7 columns):\n",
            " #   Column     Non-Null Count  Dtype  \n",
            "---  ------     --------------  -----  \n",
            " 0   Date       454 non-null    object \n",
            " 1   Open       454 non-null    float64\n",
            " 2   High       454 non-null    float64\n",
            " 3   Low        454 non-null    float64\n",
            " 4   Close      454 non-null    float64\n",
            " 5   Adj Close  454 non-null    float64\n",
            " 6   Volume     454 non-null    int64  \n",
            "dtypes: float64(5), int64(1), object(1)\n",
            "memory usage: 25.0+ KB\n"
          ]
        }
      ],
      "source": [
        "ABNB.info()"
      ]
    },
    {
      "cell_type": "markdown",
      "metadata": {
        "id": "WeyTm2z7BLvP"
      },
      "source": [
        "Date column is in object datatype and we have to change it to datetime format to be able to perform data visualization"
      ]
    },
    {
      "cell_type": "code",
      "execution_count": 125,
      "metadata": {
        "id": "9PkmUuPsBfL3"
      },
      "outputs": [],
      "source": [
        "ABNB[[\"Date\"]] = ABNB[[\"Date\"]].apply(pd.to_datetime)"
      ]
    },
    {
      "cell_type": "markdown",
      "metadata": {
        "id": "7MGknKSNAzDh"
      },
      "source": [
        "**Descriptive statistics of the data**"
      ]
    },
    {
      "cell_type": "code",
      "execution_count": 126,
      "metadata": {
        "colab": {
          "base_uri": "https://localhost:8080/",
          "height": 300
        },
        "id": "AB3gMzQjAyGy",
        "outputId": "e94c02c4-fb2a-4d7d-d544-3cf900154f82"
      },
      "outputs": [
        {
          "data": {
            "text/html": [
              "\n",
              "  <div id=\"df-29c58917-1bbe-499d-ba9b-040532d01ff2\">\n",
              "    <div class=\"colab-df-container\">\n",
              "      <div>\n",
              "<style scoped>\n",
              "    .dataframe tbody tr th:only-of-type {\n",
              "        vertical-align: middle;\n",
              "    }\n",
              "\n",
              "    .dataframe tbody tr th {\n",
              "        vertical-align: top;\n",
              "    }\n",
              "\n",
              "    .dataframe thead th {\n",
              "        text-align: right;\n",
              "    }\n",
              "</style>\n",
              "<table border=\"1\" class=\"dataframe\">\n",
              "  <thead>\n",
              "    <tr style=\"text-align: right;\">\n",
              "      <th></th>\n",
              "      <th>Open</th>\n",
              "      <th>High</th>\n",
              "      <th>Low</th>\n",
              "      <th>Close</th>\n",
              "      <th>Adj Close</th>\n",
              "      <th>Volume</th>\n",
              "    </tr>\n",
              "  </thead>\n",
              "  <tbody>\n",
              "    <tr>\n",
              "      <th>count</th>\n",
              "      <td>454.000000</td>\n",
              "      <td>454.000000</td>\n",
              "      <td>454.000000</td>\n",
              "      <td>454.000000</td>\n",
              "      <td>454.000000</td>\n",
              "      <td>4.540000e+02</td>\n",
              "    </tr>\n",
              "    <tr>\n",
              "      <th>mean</th>\n",
              "      <td>152.735925</td>\n",
              "      <td>156.465595</td>\n",
              "      <td>148.969855</td>\n",
              "      <td>152.729185</td>\n",
              "      <td>152.729185</td>\n",
              "      <td>6.690328e+06</td>\n",
              "    </tr>\n",
              "    <tr>\n",
              "      <th>std</th>\n",
              "      <td>28.340932</td>\n",
              "      <td>29.107813</td>\n",
              "      <td>27.490223</td>\n",
              "      <td>28.226659</td>\n",
              "      <td>28.226659</td>\n",
              "      <td>4.417387e+06</td>\n",
              "    </tr>\n",
              "    <tr>\n",
              "      <th>min</th>\n",
              "      <td>88.879997</td>\n",
              "      <td>91.459999</td>\n",
              "      <td>86.709999</td>\n",
              "      <td>89.080002</td>\n",
              "      <td>89.080002</td>\n",
              "      <td>1.995400e+06</td>\n",
              "    </tr>\n",
              "    <tr>\n",
              "      <th>25%</th>\n",
              "      <td>136.821507</td>\n",
              "      <td>139.842495</td>\n",
              "      <td>132.920002</td>\n",
              "      <td>135.955002</td>\n",
              "      <td>135.955002</td>\n",
              "      <td>4.114375e+06</td>\n",
              "    </tr>\n",
              "    <tr>\n",
              "      <th>50%</th>\n",
              "      <td>154.932495</td>\n",
              "      <td>159.099998</td>\n",
              "      <td>151.230004</td>\n",
              "      <td>155.654999</td>\n",
              "      <td>155.654999</td>\n",
              "      <td>5.450000e+06</td>\n",
              "    </tr>\n",
              "    <tr>\n",
              "      <th>75%</th>\n",
              "      <td>172.556507</td>\n",
              "      <td>175.974998</td>\n",
              "      <td>168.595005</td>\n",
              "      <td>171.744996</td>\n",
              "      <td>171.744996</td>\n",
              "      <td>7.631375e+06</td>\n",
              "    </tr>\n",
              "    <tr>\n",
              "      <th>max</th>\n",
              "      <td>216.240005</td>\n",
              "      <td>219.940002</td>\n",
              "      <td>209.089996</td>\n",
              "      <td>216.839996</td>\n",
              "      <td>216.839996</td>\n",
              "      <td>3.975500e+07</td>\n",
              "    </tr>\n",
              "  </tbody>\n",
              "</table>\n",
              "</div>\n",
              "      <button class=\"colab-df-convert\" onclick=\"convertToInteractive('df-29c58917-1bbe-499d-ba9b-040532d01ff2')\"\n",
              "              title=\"Convert this dataframe to an interactive table.\"\n",
              "              style=\"display:none;\">\n",
              "        \n",
              "  <svg xmlns=\"http://www.w3.org/2000/svg\" height=\"24px\"viewBox=\"0 0 24 24\"\n",
              "       width=\"24px\">\n",
              "    <path d=\"M0 0h24v24H0V0z\" fill=\"none\"/>\n",
              "    <path d=\"M18.56 5.44l.94 2.06.94-2.06 2.06-.94-2.06-.94-.94-2.06-.94 2.06-2.06.94zm-11 1L8.5 8.5l.94-2.06 2.06-.94-2.06-.94L8.5 2.5l-.94 2.06-2.06.94zm10 10l.94 2.06.94-2.06 2.06-.94-2.06-.94-.94-2.06-.94 2.06-2.06.94z\"/><path d=\"M17.41 7.96l-1.37-1.37c-.4-.4-.92-.59-1.43-.59-.52 0-1.04.2-1.43.59L10.3 9.45l-7.72 7.72c-.78.78-.78 2.05 0 2.83L4 21.41c.39.39.9.59 1.41.59.51 0 1.02-.2 1.41-.59l7.78-7.78 2.81-2.81c.8-.78.8-2.07 0-2.86zM5.41 20L4 18.59l7.72-7.72 1.47 1.35L5.41 20z\"/>\n",
              "  </svg>\n",
              "      </button>\n",
              "      \n",
              "  <style>\n",
              "    .colab-df-container {\n",
              "      display:flex;\n",
              "      flex-wrap:wrap;\n",
              "      gap: 12px;\n",
              "    }\n",
              "\n",
              "    .colab-df-convert {\n",
              "      background-color: #E8F0FE;\n",
              "      border: none;\n",
              "      border-radius: 50%;\n",
              "      cursor: pointer;\n",
              "      display: none;\n",
              "      fill: #1967D2;\n",
              "      height: 32px;\n",
              "      padding: 0 0 0 0;\n",
              "      width: 32px;\n",
              "    }\n",
              "\n",
              "    .colab-df-convert:hover {\n",
              "      background-color: #E2EBFA;\n",
              "      box-shadow: 0px 1px 2px rgba(60, 64, 67, 0.3), 0px 1px 3px 1px rgba(60, 64, 67, 0.15);\n",
              "      fill: #174EA6;\n",
              "    }\n",
              "\n",
              "    [theme=dark] .colab-df-convert {\n",
              "      background-color: #3B4455;\n",
              "      fill: #D2E3FC;\n",
              "    }\n",
              "\n",
              "    [theme=dark] .colab-df-convert:hover {\n",
              "      background-color: #434B5C;\n",
              "      box-shadow: 0px 1px 3px 1px rgba(0, 0, 0, 0.15);\n",
              "      filter: drop-shadow(0px 1px 2px rgba(0, 0, 0, 0.3));\n",
              "      fill: #FFFFFF;\n",
              "    }\n",
              "  </style>\n",
              "\n",
              "      <script>\n",
              "        const buttonEl =\n",
              "          document.querySelector('#df-29c58917-1bbe-499d-ba9b-040532d01ff2 button.colab-df-convert');\n",
              "        buttonEl.style.display =\n",
              "          google.colab.kernel.accessAllowed ? 'block' : 'none';\n",
              "\n",
              "        async function convertToInteractive(key) {\n",
              "          const element = document.querySelector('#df-29c58917-1bbe-499d-ba9b-040532d01ff2');\n",
              "          const dataTable =\n",
              "            await google.colab.kernel.invokeFunction('convertToInteractive',\n",
              "                                                     [key], {});\n",
              "          if (!dataTable) return;\n",
              "\n",
              "          const docLinkHtml = 'Like what you see? Visit the ' +\n",
              "            '<a target=\"_blank\" href=https://colab.research.google.com/notebooks/data_table.ipynb>data table notebook</a>'\n",
              "            + ' to learn more about interactive tables.';\n",
              "          element.innerHTML = '';\n",
              "          dataTable['output_type'] = 'display_data';\n",
              "          await google.colab.output.renderOutput(dataTable, element);\n",
              "          const docLink = document.createElement('div');\n",
              "          docLink.innerHTML = docLinkHtml;\n",
              "          element.appendChild(docLink);\n",
              "        }\n",
              "      </script>\n",
              "    </div>\n",
              "  </div>\n",
              "  "
            ],
            "text/plain": [
              "             Open        High         Low       Close   Adj Close  \\\n",
              "count  454.000000  454.000000  454.000000  454.000000  454.000000   \n",
              "mean   152.735925  156.465595  148.969855  152.729185  152.729185   \n",
              "std     28.340932   29.107813   27.490223   28.226659   28.226659   \n",
              "min     88.879997   91.459999   86.709999   89.080002   89.080002   \n",
              "25%    136.821507  139.842495  132.920002  135.955002  135.955002   \n",
              "50%    154.932495  159.099998  151.230004  155.654999  155.654999   \n",
              "75%    172.556507  175.974998  168.595005  171.744996  171.744996   \n",
              "max    216.240005  219.940002  209.089996  216.839996  216.839996   \n",
              "\n",
              "             Volume  \n",
              "count  4.540000e+02  \n",
              "mean   6.690328e+06  \n",
              "std    4.417387e+06  \n",
              "min    1.995400e+06  \n",
              "25%    4.114375e+06  \n",
              "50%    5.450000e+06  \n",
              "75%    7.631375e+06  \n",
              "max    3.975500e+07  "
            ]
          },
          "execution_count": 126,
          "metadata": {},
          "output_type": "execute_result"
        }
      ],
      "source": [
        "ABNB.describe()"
      ]
    },
    {
      "cell_type": "markdown",
      "metadata": {
        "id": "1x7rJL9aBhWf"
      },
      "source": [
        "**Exploratory Data Analysis**\n",
        "\n",
        "We find patterns and trends in the data to gain insights about the stock"
      ]
    },
    {
      "cell_type": "markdown",
      "metadata": {
        "id": "7ZaElbGSCJFe"
      },
      "source": [
        "**Change in the stock price over time.**"
      ]
    },
    {
      "cell_type": "code",
      "execution_count": 127,
      "metadata": {
        "colab": {
          "base_uri": "https://localhost:8080/",
          "height": 313
        },
        "id": "HgWeCR5lh4fq",
        "outputId": "43c4d8a0-4fbb-4df5-f7c5-799c7500ea48"
      },
      "outputs": [
        {
          "data": {
            "text/plain": [
              "Text(0.5, 1.0, 'Closing Price of Airbnb')"
            ]
          },
          "execution_count": 127,
          "metadata": {},
          "output_type": "execute_result"
        },
        {
          "data": {
            "image/png": "[encoded data removed]",
            "text/plain": [
              "<Figure size 432x288 with 1 Axes>"
            ]
          },
          "metadata": {
            "needs_background": "light"
          },
          "output_type": "display_data"
        }
      ],
      "source": [
        "# Historical view of the closing price\n",
        "\n",
        "Adj_Close=ABNB['Adj Close']\n",
        "Date=ABNB['Date']\n",
        "plt.plot(Date,Adj_Close)\n",
        "plt.ylabel('Adj Close')\n",
        "plt.xlabel('Date')\n",
        "plt.title(f\"Closing Price of Airbnb\")\n",
        "    "
      ]
    },
    {
      "cell_type": "markdown",
      "metadata": {
        "id": "0pjjwy2ZCT4q"
      },
      "source": [
        "The stock of Airbnb has seen a downward trend in the past year and in the last month there is a slight upward trend in the stock with a hope to revive."
      ]
    },
    {
      "cell_type": "markdown",
      "metadata": {
        "id": "e5nOSq2mCr-8"
      },
      "source": [
        "**Total Volume of the stocks being traded each day**"
      ]
    },
    {
      "cell_type": "code",
      "execution_count": 128,
      "metadata": {
        "colab": {
          "base_uri": "https://localhost:8080/",
          "height": 313
        },
        "id": "K4FqP4pYkb2m",
        "outputId": "c4a1c64d-148b-4907-d80d-20ecf79e3252"
      },
      "outputs": [
        {
          "data": {
            "text/plain": [
              "Text(0.5, 1.0, 'Sales Volume for Airbnb')"
            ]
          },
          "execution_count": 128,
          "metadata": {},
          "output_type": "execute_result"
        },
        {
          "data": {
            "image/png": "[encoded data removed]",
            "text/plain": [
              "<Figure size 432x288 with 1 Axes>"
            ]
          },
          "metadata": {
            "needs_background": "light"
          },
          "output_type": "display_data"
        }
      ],
      "source": [
        "#Historical view of the volume of the stock\n",
        "\n",
        "Volume=ABNB['Volume']\n",
        "plt.plot(Date,Volume)\n",
        "plt.ylabel('Volume')\n",
        "plt.xlabel('Date')\n",
        "plt.title(\"Sales Volume for Airbnb\")"
      ]
    },
    {
      "cell_type": "markdown",
      "metadata": {
        "id": "1f1LZiMTDG5w"
      },
      "source": [
        "**Moving average of the stock**"
      ]
    },
    {
      "cell_type": "code",
      "execution_count": 129,
      "metadata": {
        "id": "48Xsf3F7k3ii"
      },
      "outputs": [],
      "source": [
        "ma_day = [10, 20, 50]\n",
        "\n",
        "for ma in ma_day:\n",
        "    column_name = f\"MA for {ma} days\"\n",
        "    ABNB[column_name] = ABNB['Adj Close'].rolling(ma).mean()"
      ]
    },
    {
      "cell_type": "code",
      "execution_count": 130,
      "metadata": {
        "colab": {
          "base_uri": "https://localhost:8080/",
          "height": 299
        },
        "id": "ddKxcmW8lMw_",
        "outputId": "7d66561b-3dc4-43b3-ec1d-bafe1f1197b3"
      },
      "outputs": [
        {
          "data": {
            "text/plain": [
              "Text(0.5, 1.0, 'Moving average of Airbnb stock')"
            ]
          },
          "execution_count": 130,
          "metadata": {},
          "output_type": "execute_result"
        },
        {
          "data": {
            "image/png": "[encoded data removed]",
            "text/plain": [
              "<Figure size 432x288 with 1 Axes>"
            ]
          },
          "metadata": {
            "needs_background": "light"
          },
          "output_type": "display_data"
        }
      ],
      "source": [
        "ABNB[['Adj Close', 'MA for 10 days', 'MA for 20 days', 'MA for 50 days']].plot()\n",
        "plt.title(\"Moving average of Airbnb stock\")\n"
      ]
    },
    {
      "cell_type": "markdown",
      "metadata": {
        "id": "W0QKARUuDZGX"
      },
      "source": [
        "**Average daily return of the stock**"
      ]
    },
    {
      "cell_type": "code",
      "execution_count": 131,
      "metadata": {
        "colab": {
          "base_uri": "https://localhost:8080/",
          "height": 299
        },
        "id": "R8HYxGRnmJvM",
        "outputId": "b74e0bd2-2be7-4606-fb20-1d706d0a917e"
      },
      "outputs": [
        {
          "data": {
            "text/plain": [
              "Text(0.5, 1.0, 'Average daily return in percentage for Airbnb')"
            ]
          },
          "execution_count": 131,
          "metadata": {},
          "output_type": "execute_result"
        },
        {
          "data": {
            "image/png": "[encoded data removed]",
            "text/plain": [
              "<Figure size 432x288 with 1 Axes>"
            ]
          },
          "metadata": {
            "needs_background": "light"
          },
          "output_type": "display_data"
        }
      ],
      "source": [
        "ABNB['Daily Return'] = ABNB['Adj Close'].pct_change()\n",
        "Daily_return=ABNB['Daily Return']\n",
        "plt.plot(Date,Daily_return)\n",
        "plt.title(\"Average daily return in percentage for Airbnb\")\n"
      ]
    },
    {
      "cell_type": "markdown",
      "metadata": {
        "id": "m2QxH__jDoTM"
      },
      "source": [
        "Now we find an overall look at the average daily return percentage using a histogram. We'll use seaborn to create both a histogram and kde plot on the same figure"
      ]
    },
    {
      "cell_type": "code",
      "execution_count": 132,
      "metadata": {
        "colab": {
          "base_uri": "https://localhost:8080/",
          "height": 299
        },
        "id": "wqzbu6HOnCA7",
        "outputId": "54581c5e-e1d1-40e2-974f-bea19a4d019a"
      },
      "outputs": [
        {
          "data": {
            "text/plain": [
              "Text(0.5, 1.0, 'Distribution of the average return for Airbnb')"
            ]
          },
          "execution_count": 132,
          "metadata": {},
          "output_type": "execute_result"
        },
        {
          "data": {
            "image/png": "[encoded data removed]",
            "text/plain": [
              "<Figure size 432x288 with 1 Axes>"
            ]
          },
          "metadata": {
            "needs_background": "light"
          },
          "output_type": "display_data"
        }
      ],
      "source": [
        "ABNB['Daily Return'].hist(bins=50)\n",
        "plt.ylabel('Daily Return')\n",
        "plt.title(\"Distribution of the average return for Airbnb\")"
      ]
    },
    {
      "cell_type": "markdown",
      "metadata": {
        "id": "C9I4h2GSDy-l"
      },
      "source": [
        "There is a an average fluctuation of (+-)0.05% in the daily return of the stock"
      ]
    },
    {
      "cell_type": "markdown",
      "metadata": {
        "id": "PGYy5ATSEXIc"
      },
      "source": [
        "**Correlation between close price and other indicators.**\n",
        "\n",
        "Correlation is a statistical measure that expresses the extent to which two variables are linearly related. 1 being highly correlated and 0 being low correlation. -1 has a negatively high correlation which means there is a high inverse relation."
      ]
    },
    {
      "cell_type": "code",
      "execution_count": 133,
      "metadata": {
        "colab": {
          "base_uri": "https://localhost:8080/",
          "height": 363
        },
        "id": "cTpo4WhqnO0X",
        "outputId": "ee59e34d-4df9-4833-c3ae-248c657d9af7"
      },
      "outputs": [
        {
          "data": {
            "text/html": [
              "\n",
              "  <div id=\"df-e4840b30-720f-4d5f-b7ed-0923ae3cf8c4\">\n",
              "    <div class=\"colab-df-container\">\n",
              "      <div>\n",
              "<style scoped>\n",
              "    .dataframe tbody tr th:only-of-type {\n",
              "        vertical-align: middle;\n",
              "    }\n",
              "\n",
              "    .dataframe tbody tr th {\n",
              "        vertical-align: top;\n",
              "    }\n",
              "\n",
              "    .dataframe thead th {\n",
              "        text-align: right;\n",
              "    }\n",
              "</style>\n",
              "<table border=\"1\" class=\"dataframe\">\n",
              "  <thead>\n",
              "    <tr style=\"text-align: right;\">\n",
              "      <th></th>\n",
              "      <th>Open</th>\n",
              "      <th>High</th>\n",
              "      <th>Low</th>\n",
              "      <th>Close</th>\n",
              "      <th>Adj Close</th>\n",
              "      <th>Volume</th>\n",
              "      <th>MA for 10 days</th>\n",
              "      <th>MA for 20 days</th>\n",
              "      <th>MA for 50 days</th>\n",
              "      <th>Daily Return</th>\n",
              "    </tr>\n",
              "  </thead>\n",
              "  <tbody>\n",
              "    <tr>\n",
              "      <th>Open</th>\n",
              "      <td>1.000000</td>\n",
              "      <td>0.992400</td>\n",
              "      <td>0.992226</td>\n",
              "      <td>0.983982</td>\n",
              "      <td>0.983982</td>\n",
              "      <td>-0.161547</td>\n",
              "      <td>0.960941</td>\n",
              "      <td>0.916561</td>\n",
              "      <td>0.815782</td>\n",
              "      <td>-0.038248</td>\n",
              "    </tr>\n",
              "    <tr>\n",
              "      <th>High</th>\n",
              "      <td>0.992400</td>\n",
              "      <td>1.000000</td>\n",
              "      <td>0.990039</td>\n",
              "      <td>0.992992</td>\n",
              "      <td>0.992992</td>\n",
              "      <td>-0.118431</td>\n",
              "      <td>0.957527</td>\n",
              "      <td>0.911686</td>\n",
              "      <td>0.814658</td>\n",
              "      <td>0.045238</td>\n",
              "    </tr>\n",
              "    <tr>\n",
              "      <th>Low</th>\n",
              "      <td>0.992226</td>\n",
              "      <td>0.990039</td>\n",
              "      <td>1.000000</td>\n",
              "      <td>0.992306</td>\n",
              "      <td>0.992306</td>\n",
              "      <td>-0.186775</td>\n",
              "      <td>0.953352</td>\n",
              "      <td>0.906288</td>\n",
              "      <td>0.799389</td>\n",
              "      <td>0.037298</td>\n",
              "    </tr>\n",
              "    <tr>\n",
              "      <th>Close</th>\n",
              "      <td>0.983982</td>\n",
              "      <td>0.992992</td>\n",
              "      <td>0.992306</td>\n",
              "      <td>1.000000</td>\n",
              "      <td>1.000000</td>\n",
              "      <td>-0.137389</td>\n",
              "      <td>0.951768</td>\n",
              "      <td>0.905475</td>\n",
              "      <td>0.803212</td>\n",
              "      <td>0.116081</td>\n",
              "    </tr>\n",
              "    <tr>\n",
              "      <th>Adj Close</th>\n",
              "      <td>0.983982</td>\n",
              "      <td>0.992992</td>\n",
              "      <td>0.992306</td>\n",
              "      <td>1.000000</td>\n",
              "      <td>1.000000</td>\n",
              "      <td>-0.137389</td>\n",
              "      <td>0.951768</td>\n",
              "      <td>0.905475</td>\n",
              "      <td>0.803212</td>\n",
              "      <td>0.116081</td>\n",
              "    </tr>\n",
              "    <tr>\n",
              "      <th>Volume</th>\n",
              "      <td>-0.161547</td>\n",
              "      <td>-0.118431</td>\n",
              "      <td>-0.186775</td>\n",
              "      <td>-0.137389</td>\n",
              "      <td>-0.137389</td>\n",
              "      <td>1.000000</td>\n",
              "      <td>-0.127311</td>\n",
              "      <td>-0.099360</td>\n",
              "      <td>-0.019768</td>\n",
              "      <td>0.131999</td>\n",
              "    </tr>\n",
              "    <tr>\n",
              "      <th>MA for 10 days</th>\n",
              "      <td>0.960941</td>\n",
              "      <td>0.957527</td>\n",
              "      <td>0.953352</td>\n",
              "      <td>0.951768</td>\n",
              "      <td>0.951768</td>\n",
              "      <td>-0.127311</td>\n",
              "      <td>1.000000</td>\n",
              "      <td>0.973595</td>\n",
              "      <td>0.868382</td>\n",
              "      <td>-0.044349</td>\n",
              "    </tr>\n",
              "    <tr>\n",
              "      <th>MA for 20 days</th>\n",
              "      <td>0.916561</td>\n",
              "      <td>0.911686</td>\n",
              "      <td>0.906288</td>\n",
              "      <td>0.905475</td>\n",
              "      <td>0.905475</td>\n",
              "      <td>-0.099360</td>\n",
              "      <td>0.973595</td>\n",
              "      <td>1.000000</td>\n",
              "      <td>0.922688</td>\n",
              "      <td>-0.045657</td>\n",
              "    </tr>\n",
              "    <tr>\n",
              "      <th>MA for 50 days</th>\n",
              "      <td>0.815782</td>\n",
              "      <td>0.814658</td>\n",
              "      <td>0.799389</td>\n",
              "      <td>0.803212</td>\n",
              "      <td>0.803212</td>\n",
              "      <td>-0.019768</td>\n",
              "      <td>0.868382</td>\n",
              "      <td>0.922688</td>\n",
              "      <td>1.000000</td>\n",
              "      <td>-0.051607</td>\n",
              "    </tr>\n",
              "    <tr>\n",
              "      <th>Daily Return</th>\n",
              "      <td>-0.038248</td>\n",
              "      <td>0.045238</td>\n",
              "      <td>0.037298</td>\n",
              "      <td>0.116081</td>\n",
              "      <td>0.116081</td>\n",
              "      <td>0.131999</td>\n",
              "      <td>-0.044349</td>\n",
              "      <td>-0.045657</td>\n",
              "      <td>-0.051607</td>\n",
              "      <td>1.000000</td>\n",
              "    </tr>\n",
              "  </tbody>\n",
              "</table>\n",
              "</div>\n",
              "      <button class=\"colab-df-convert\" onclick=\"convertToInteractive('df-e4840b30-720f-4d5f-b7ed-0923ae3cf8c4')\"\n",
              "              title=\"Convert this dataframe to an interactive table.\"\n",
              "              style=\"display:none;\">\n",
              "        \n",
              "  <svg xmlns=\"http://www.w3.org/2000/svg\" height=\"24px\"viewBox=\"0 0 24 24\"\n",
              "       width=\"24px\">\n",
              "    <path d=\"M0 0h24v24H0V0z\" fill=\"none\"/>\n",
              "    <path d=\"M18.56 5.44l.94 2.06.94-2.06 2.06-.94-2.06-.94-.94-2.06-.94 2.06-2.06.94zm-11 1L8.5 8.5l.94-2.06 2.06-.94-2.06-.94L8.5 2.5l-.94 2.06-2.06.94zm10 10l.94 2.06.94-2.06 2.06-.94-2.06-.94-.94-2.06-.94 2.06-2.06.94z\"/><path d=\"M17.41 7.96l-1.37-1.37c-.4-.4-.92-.59-1.43-.59-.52 0-1.04.2-1.43.59L10.3 9.45l-7.72 7.72c-.78.78-.78 2.05 0 2.83L4 21.41c.39.39.9.59 1.41.59.51 0 1.02-.2 1.41-.59l7.78-7.78 2.81-2.81c.8-.78.8-2.07 0-2.86zM5.41 20L4 18.59l7.72-7.72 1.47 1.35L5.41 20z\"/>\n",
              "  </svg>\n",
              "      </button>\n",
              "      \n",
              "  <style>\n",
              "    .colab-df-container {\n",
              "      display:flex;\n",
              "      flex-wrap:wrap;\n",
              "      gap: 12px;\n",
              "    }\n",
              "\n",
              "    .colab-df-convert {\n",
              "      background-color: #E8F0FE;\n",
              "      border: none;\n",
              "      border-radius: 50%;\n",
              "      cursor: pointer;\n",
              "      display: none;\n",
              "      fill: #1967D2;\n",
              "      height: 32px;\n",
              "      padding: 0 0 0 0;\n",
              "      width: 32px;\n",
              "    }\n",
              "\n",
              "    .colab-df-convert:hover {\n",
              "      background-color: #E2EBFA;\n",
              "      box-shadow: 0px 1px 2px rgba(60, 64, 67, 0.3), 0px 1px 3px 1px rgba(60, 64, 67, 0.15);\n",
              "      fill: #174EA6;\n",
              "    }\n",
              "\n",
              "    [theme=dark] .colab-df-convert {\n",
              "      background-color: #3B4455;\n",
              "      fill: #D2E3FC;\n",
              "    }\n",
              "\n",
              "    [theme=dark] .colab-df-convert:hover {\n",
              "      background-color: #434B5C;\n",
              "      box-shadow: 0px 1px 3px 1px rgba(0, 0, 0, 0.15);\n",
              "      filter: drop-shadow(0px 1px 2px rgba(0, 0, 0, 0.3));\n",
              "      fill: #FFFFFF;\n",
              "    }\n",
              "  </style>\n",
              "\n",
              "      <script>\n",
              "        const buttonEl =\n",
              "          document.querySelector('#df-e4840b30-720f-4d5f-b7ed-0923ae3cf8c4 button.colab-df-convert');\n",
              "        buttonEl.style.display =\n",
              "          google.colab.kernel.accessAllowed ? 'block' : 'none';\n",
              "\n",
              "        async function convertToInteractive(key) {\n",
              "          const element = document.querySelector('#df-e4840b30-720f-4d5f-b7ed-0923ae3cf8c4');\n",
              "          const dataTable =\n",
              "            await google.colab.kernel.invokeFunction('convertToInteractive',\n",
              "                                                     [key], {});\n",
              "          if (!dataTable) return;\n",
              "\n",
              "          const docLinkHtml = 'Like what you see? Visit the ' +\n",
              "            '<a target=\"_blank\" href=https://colab.research.google.com/notebooks/data_table.ipynb>data table notebook</a>'\n",
              "            + ' to learn more about interactive tables.';\n",
              "          element.innerHTML = '';\n",
              "          dataTable['output_type'] = 'display_data';\n",
              "          await google.colab.output.renderOutput(dataTable, element);\n",
              "          const docLink = document.createElement('div');\n",
              "          docLink.innerHTML = docLinkHtml;\n",
              "          element.appendChild(docLink);\n",
              "        }\n",
              "      </script>\n",
              "    </div>\n",
              "  </div>\n",
              "  "
            ],
            "text/plain": [
              "                    Open      High       Low     Close  Adj Close    Volume  \\\n",
              "Open            1.000000  0.992400  0.992226  0.983982   0.983982 -0.161547   \n",
              "High            0.992400  1.000000  0.990039  0.992992   0.992992 -0.118431   \n",
              "Low             0.992226  0.990039  1.000000  0.992306   0.992306 -0.186775   \n",
              "Close           0.983982  0.992992  0.992306  1.000000   1.000000 -0.137389   \n",
              "Adj Close       0.983982  0.992992  0.992306  1.000000   1.000000 -0.137389   \n",
              "Volume         -0.161547 -0.118431 -0.186775 -0.137389  -0.137389  1.000000   \n",
              "MA for 10 days  0.960941  0.957527  0.953352  0.951768   0.951768 -0.127311   \n",
              "MA for 20 days  0.916561  0.911686  0.906288  0.905475   0.905475 -0.099360   \n",
              "MA for 50 days  0.815782  0.814658  0.799389  0.803212   0.803212 -0.019768   \n",
              "Daily Return   -0.038248  0.045238  0.037298  0.116081   0.116081  0.131999   \n",
              "\n",
              "                MA for 10 days  MA for 20 days  MA for 50 days  Daily Return  \n",
              "Open                  0.960941        0.916561        0.815782     -0.038248  \n",
              "High                  0.957527        0.911686        0.814658      0.045238  \n",
              "Low                   0.953352        0.906288        0.799389      0.037298  \n",
              "Close                 0.951768        0.905475        0.803212      0.116081  \n",
              "Adj Close             0.951768        0.905475        0.803212      0.116081  \n",
              "Volume               -0.127311       -0.099360       -0.019768      0.131999  \n",
              "MA for 10 days        1.000000        0.973595        0.868382     -0.044349  \n",
              "MA for 20 days        0.973595        1.000000        0.922688     -0.045657  \n",
              "MA for 50 days        0.868382        0.922688        1.000000     -0.051607  \n",
              "Daily Return         -0.044349       -0.045657       -0.051607      1.000000  "
            ]
          },
          "execution_count": 133,
          "metadata": {},
          "output_type": "execute_result"
        }
      ],
      "source": [
        "correl=ABNB.corr()\n",
        "correl"
      ]
    },
    {
      "cell_type": "markdown",
      "metadata": {
        "id": "WyuOMU8PE_PU"
      },
      "source": [
        "**Plotting a heatmap to see a clear relation betwen the indicators**"
      ]
    },
    {
      "cell_type": "code",
      "execution_count": 134,
      "metadata": {
        "colab": {
          "base_uri": "https://localhost:8080/",
          "height": 352
        },
        "id": "hoQSSBSuFuLQ",
        "outputId": "b47f0faa-9e9c-4f83-fc2d-2deff8620d29"
      },
      "outputs": [
        {
          "data": {
            "text/plain": [
              "<matplotlib.axes._subplots.AxesSubplot at 0x7f2b8b226e10>"
            ]
          },
          "execution_count": 134,
          "metadata": {},
          "output_type": "execute_result"
        },
        {
          "data": {
            "image/png": "[encoded data removed]",
            "text/plain": [
              "<Figure size 432x288 with 2 Axes>"
            ]
          },
          "metadata": {
            "needs_background": "light"
          },
          "output_type": "display_data"
        }
      ],
      "source": [
        "sns.heatmap(correl)"
      ]
    },
    {
      "cell_type": "markdown",
      "metadata": {
        "id": "iGVx6KZ6FyXK"
      },
      "source": [
        "We see there is a linear dependency of Open price, High price and Low price to the Close price of the stock on a day"
      ]
    },
    {
      "cell_type": "markdown",
      "metadata": {
        "id": "w9iRxvF-GQ0j"
      },
      "source": [
        "**Data Scaling and Transformation**\n",
        "\n",
        "We use min-max scaled from the sci-kit library to scale and transform the data between 0,1."
      ]
    },
    {
      "cell_type": "code",
      "execution_count": 135,
      "metadata": {
        "id": "ltaE19qvoSjx"
      },
      "outputs": [],
      "source": [
        "# Create a new dataframe with only the 'Close' column \n",
        "data = ABNB.filter(['Close'])"
      ]
    },
    {
      "cell_type": "code",
      "execution_count": 136,
      "metadata": {
        "id": "S7gIjoIjoY0Z"
      },
      "outputs": [],
      "source": [
        "# Scale the data\n",
        "scaler = MinMaxScaler(feature_range=(0,1))\n",
        "scaled_data = scaler.fit_transform(data)"
      ]
    },
    {
      "cell_type": "markdown",
      "metadata": {
        "id": "Axr-hdt8Gpt8"
      },
      "source": [
        "This is our target variable for the prediction model\n",
        "\n"
      ]
    },
    {
      "cell_type": "code",
      "execution_count": 137,
      "metadata": {
        "id": "mwTYuI3PqUJ9"
      },
      "outputs": [],
      "source": [
        "# Create a new dataframe with only the 'Open', 'High', 'Low' column \n",
        "X=ABNB[['Open', 'High', 'Low']]"
      ]
    },
    {
      "cell_type": "markdown",
      "metadata": {
        "id": "r6E2dzJCG73H"
      },
      "source": [
        "These are the features we use for training the prediction model"
      ]
    },
    {
      "cell_type": "markdown",
      "metadata": {
        "id": "IQ49JjkVHGQE"
      },
      "source": [
        "**Splitting of the data into train and test set**\n",
        "\n",
        "We use train_test_split from the sci-kit library to split the data easily.We use 80% data from train and 20% for test. Random state allows to split the dataset randomly."
      ]
    },
    {
      "cell_type": "code",
      "execution_count": 138,
      "metadata": {
        "id": "QcaFGb-9ob9n"
      },
      "outputs": [],
      "source": [
        "X_train, X_test, y_train, y_test = train_test_split(X,scaled_data, test_size=0.20, random_state=42)\n",
        "\n",
        "# Convert the X_train and y_train to numpy arrays \n",
        "X_train, y_train = np.array(X_train), np.array(y_train)\n",
        "\n",
        "# Reshape the data\n",
        "x_train = np.reshape(X_train, (X_train.shape[0], X_train.shape[1]))\n",
        "# x_train.shape\n",
        "\n",
        "# Convert the test data to a numpy array\n",
        "x_test, y_test = np.array(X_test), np.array(y_test)\n",
        "\n",
        "# Reshape the data\n",
        "x_test = np.reshape(x_test, (x_test.shape[0], x_test.shape[1]))\n",
        "\n"
      ]
    },
    {
      "cell_type": "markdown",
      "metadata": {
        "id": "Qfi2RQsZHiWe"
      },
      "source": [
        "**Model Development**\n",
        "\n",
        "We use XGBRegressor of the XGBoost library to build the prediction model.\n",
        "\n",
        "Extreme Gradient Boosting (XGBoost) is an open-source library that provides an efficient and effective implementation of the gradient boosting algorithm."
      ]
    },
    {
      "cell_type": "code",
      "execution_count": 139,
      "metadata": {
        "colab": {
          "base_uri": "https://localhost:8080/"
        },
        "id": "lufOrG8mojRl",
        "outputId": "da95b249-c897-4580-f096-82ba0cf048ec"
      },
      "outputs": [
        {
          "name": "stdout",
          "output_type": "stream",
          "text": [
            "[13:38:49] WARNING: /workspace/src/objective/regression_obj.cu:152: reg:linear is now deprecated in favor of reg:squarederror.\n"
          ]
        },
        {
          "data": {
            "text/plain": [
              "XGBRegressor(colsample_bytree=0.8, eta=0.1, max_depth=6, n_estimators=1000,\n",
              "             subsample=0.7)"
            ]
          },
          "execution_count": 139,
          "metadata": {},
          "output_type": "execute_result"
        }
      ],
      "source": [
        "#Model development with parameter tuning\n",
        "model = XGBRegressor(n_estimators=1000, max_depth=6, eta=0.1, subsample=0.7, colsample_bytree=0.8)\n",
        "model.fit(X_train,y_train)\n"
      ]
    },
    {
      "cell_type": "markdown",
      "metadata": {
        "id": "5HogmMScJCWX"
      },
      "source": [
        "**Prediction using the trained model on the test dataset**\n"
      ]
    },
    {
      "cell_type": "code",
      "execution_count": 140,
      "metadata": {
        "id": "LpUKxzsUqyi6"
      },
      "outputs": [],
      "source": [
        "# make predictions for test data\n",
        "y_pred = model.predict(x_test)\n"
      ]
    },
    {
      "cell_type": "code",
      "execution_count": 141,
      "metadata": {
        "colab": {
          "base_uri": "https://localhost:8080/"
        },
        "id": "8ya9QqCLx2Lv",
        "outputId": "6a48af46-9e40-467d-c0cc-a225f2be998f"
      },
      "outputs": [
        {
          "name": "stdout",
          "output_type": "stream",
          "text": [
            " _ _ _ _ _ _ _ _ _ _ _ _ _ _ _\n",
            "Score : 98.763%\n",
            "RMSE : 0.32251419346124116%\n",
            " _ _ _ _ _ _ _ _ _ _ _ _ _ _ _\n"
          ]
        }
      ],
      "source": [
        "predictor_score = round(model.score(x_test, y_test)*100, 3)\n",
        "rmse = np.sqrt(np.mean(((y_pred - y_test) ** 2)))\n",
        "print(' _'*15)\n",
        "\n",
        "print(f'Score : {predictor_score}%')\n",
        "print(f'RMSE : {rmse}%')\n",
        "\n",
        "print(' _'*15)\n",
        "\n"
      ]
    },
    {
      "cell_type": "markdown",
      "metadata": {
        "id": "euN7fuLdBUt9"
      },
      "source": [
        "The model has 98.7% accuracy and Root mean square error of 0.32%"
      ]
    },
    {
      "cell_type": "markdown",
      "metadata": {
        "id": "9bbTjQ-I_22G"
      },
      "source": [
        "**To see the predictions**"
      ]
    },
    {
      "cell_type": "code",
      "execution_count": 142,
      "metadata": {
        "id": "n9-4ns1mzbc-"
      },
      "outputs": [],
      "source": [
        "# Inverse transform the data\n",
        "y_pred = np.reshape(y_pred, (y_pred.shape[0], 1))\n",
        "y_pred1=scaler.inverse_transform(y_pred)\n",
        "ytest1=scaler.inverse_transform(y_test)"
      ]
    },
    {
      "cell_type": "code",
      "execution_count": 143,
      "metadata": {
        "colab": {
          "base_uri": "https://localhost:8080/",
          "height": 423
        },
        "id": "Uo25iklxsJfV",
        "outputId": "010af825-cdf9-41a5-dd6e-1f7046029c38"
      },
      "outputs": [
        {
          "data": {
            "text/html": [
              "\n",
              "  <div id=\"df-e2380503-db05-46ef-82c6-54741439a98d\">\n",
              "    <div class=\"colab-df-container\">\n",
              "      <div>\n",
              "<style scoped>\n",
              "    .dataframe tbody tr th:only-of-type {\n",
              "        vertical-align: middle;\n",
              "    }\n",
              "\n",
              "    .dataframe tbody tr th {\n",
              "        vertical-align: top;\n",
              "    }\n",
              "\n",
              "    .dataframe thead th {\n",
              "        text-align: right;\n",
              "    }\n",
              "</style>\n",
              "<table border=\"1\" class=\"dataframe\">\n",
              "  <thead>\n",
              "    <tr style=\"text-align: right;\">\n",
              "      <th></th>\n",
              "      <th>Actual Close</th>\n",
              "      <th>Predicted Close</th>\n",
              "    </tr>\n",
              "  </thead>\n",
              "  <tbody>\n",
              "    <tr>\n",
              "      <th>0</th>\n",
              "      <td>150.039993</td>\n",
              "      <td>159.178543</td>\n",
              "    </tr>\n",
              "    <tr>\n",
              "      <th>1</th>\n",
              "      <td>199.880005</td>\n",
              "      <td>205.610031</td>\n",
              "    </tr>\n",
              "    <tr>\n",
              "      <th>2</th>\n",
              "      <td>165.740005</td>\n",
              "      <td>165.711548</td>\n",
              "    </tr>\n",
              "    <tr>\n",
              "      <th>3</th>\n",
              "      <td>111.199997</td>\n",
              "      <td>110.185066</td>\n",
              "    </tr>\n",
              "    <tr>\n",
              "      <th>4</th>\n",
              "      <td>141.580002</td>\n",
              "      <td>139.720795</td>\n",
              "    </tr>\n",
              "    <tr>\n",
              "      <th>...</th>\n",
              "      <td>...</td>\n",
              "      <td>...</td>\n",
              "    </tr>\n",
              "    <tr>\n",
              "      <th>86</th>\n",
              "      <td>103.230003</td>\n",
              "      <td>102.683563</td>\n",
              "    </tr>\n",
              "    <tr>\n",
              "      <th>87</th>\n",
              "      <td>153.139999</td>\n",
              "      <td>152.181946</td>\n",
              "    </tr>\n",
              "    <tr>\n",
              "      <th>88</th>\n",
              "      <td>180.000000</td>\n",
              "      <td>178.961014</td>\n",
              "    </tr>\n",
              "    <tr>\n",
              "      <th>89</th>\n",
              "      <td>180.809998</td>\n",
              "      <td>182.004517</td>\n",
              "    </tr>\n",
              "    <tr>\n",
              "      <th>90</th>\n",
              "      <td>142.000000</td>\n",
              "      <td>140.832474</td>\n",
              "    </tr>\n",
              "  </tbody>\n",
              "</table>\n",
              "<p>91 rows × 2 columns</p>\n",
              "</div>\n",
              "      <button class=\"colab-df-convert\" onclick=\"convertToInteractive('df-e2380503-db05-46ef-82c6-54741439a98d')\"\n",
              "              title=\"Convert this dataframe to an interactive table.\"\n",
              "              style=\"display:none;\">\n",
              "        \n",
              "  <svg xmlns=\"http://www.w3.org/2000/svg\" height=\"24px\"viewBox=\"0 0 24 24\"\n",
              "       width=\"24px\">\n",
              "    <path d=\"M0 0h24v24H0V0z\" fill=\"none\"/>\n",
              "    <path d=\"M18.56 5.44l.94 2.06.94-2.06 2.06-.94-2.06-.94-.94-2.06-.94 2.06-2.06.94zm-11 1L8.5 8.5l.94-2.06 2.06-.94-2.06-.94L8.5 2.5l-.94 2.06-2.06.94zm10 10l.94 2.06.94-2.06 2.06-.94-2.06-.94-.94-2.06-.94 2.06-2.06.94z\"/><path d=\"M17.41 7.96l-1.37-1.37c-.4-.4-.92-.59-1.43-.59-.52 0-1.04.2-1.43.59L10.3 9.45l-7.72 7.72c-.78.78-.78 2.05 0 2.83L4 21.41c.39.39.9.59 1.41.59.51 0 1.02-.2 1.41-.59l7.78-7.78 2.81-2.81c.8-.78.8-2.07 0-2.86zM5.41 20L4 18.59l7.72-7.72 1.47 1.35L5.41 20z\"/>\n",
              "  </svg>\n",
              "      </button>\n",
              "      \n",
              "  <style>\n",
              "    .colab-df-container {\n",
              "      display:flex;\n",
              "      flex-wrap:wrap;\n",
              "      gap: 12px;\n",
              "    }\n",
              "\n",
              "    .colab-df-convert {\n",
              "      background-color: #E8F0FE;\n",
              "      border: none;\n",
              "      border-radius: 50%;\n",
              "      cursor: pointer;\n",
              "      display: none;\n",
              "      fill: #1967D2;\n",
              "      height: 32px;\n",
              "      padding: 0 0 0 0;\n",
              "      width: 32px;\n",
              "    }\n",
              "\n",
              "    .colab-df-convert:hover {\n",
              "      background-color: #E2EBFA;\n",
              "      box-shadow: 0px 1px 2px rgba(60, 64, 67, 0.3), 0px 1px 3px 1px rgba(60, 64, 67, 0.15);\n",
              "      fill: #174EA6;\n",
              "    }\n",
              "\n",
              "    [theme=dark] .colab-df-convert {\n",
              "      background-color: #3B4455;\n",
              "      fill: #D2E3FC;\n",
              "    }\n",
              "\n",
              "    [theme=dark] .colab-df-convert:hover {\n",
              "      background-color: #434B5C;\n",
              "      box-shadow: 0px 1px 3px 1px rgba(0, 0, 0, 0.15);\n",
              "      filter: drop-shadow(0px 1px 2px rgba(0, 0, 0, 0.3));\n",
              "      fill: #FFFFFF;\n",
              "    }\n",
              "  </style>\n",
              "\n",
              "      <script>\n",
              "        const buttonEl =\n",
              "          document.querySelector('#df-e2380503-db05-46ef-82c6-54741439a98d button.colab-df-convert');\n",
              "        buttonEl.style.display =\n",
              "          google.colab.kernel.accessAllowed ? 'block' : 'none';\n",
              "\n",
              "        async function convertToInteractive(key) {\n",
              "          const element = document.querySelector('#df-e2380503-db05-46ef-82c6-54741439a98d');\n",
              "          const dataTable =\n",
              "            await google.colab.kernel.invokeFunction('convertToInteractive',\n",
              "                                                     [key], {});\n",
              "          if (!dataTable) return;\n",
              "\n",
              "          const docLinkHtml = 'Like what you see? Visit the ' +\n",
              "            '<a target=\"_blank\" href=https://colab.research.google.com/notebooks/data_table.ipynb>data table notebook</a>'\n",
              "            + ' to learn more about interactive tables.';\n",
              "          element.innerHTML = '';\n",
              "          dataTable['output_type'] = 'display_data';\n",
              "          await google.colab.output.renderOutput(dataTable, element);\n",
              "          const docLink = document.createElement('div');\n",
              "          docLink.innerHTML = docLinkHtml;\n",
              "          element.appendChild(docLink);\n",
              "        }\n",
              "      </script>\n",
              "    </div>\n",
              "  </div>\n",
              "  "
            ],
            "text/plain": [
              "    Actual Close  Predicted Close\n",
              "0     150.039993       159.178543\n",
              "1     199.880005       205.610031\n",
              "2     165.740005       165.711548\n",
              "3     111.199997       110.185066\n",
              "4     141.580002       139.720795\n",
              "..           ...              ...\n",
              "86    103.230003       102.683563\n",
              "87    153.139999       152.181946\n",
              "88    180.000000       178.961014\n",
              "89    180.809998       182.004517\n",
              "90    142.000000       140.832474\n",
              "\n",
              "[91 rows x 2 columns]"
            ]
          },
          "execution_count": 143,
          "metadata": {},
          "output_type": "execute_result"
        }
      ],
      "source": [
        "Actual_close=pd.DataFrame(ytest1)\n",
        "Predicted_close=pd.DataFrame(y_pred1)\n",
        "\n",
        "Actual_close.rename(columns = {0:'Actual Close'}, inplace = True)\n",
        "Predicted_close.rename(columns = {0:'Predicted Close'}, inplace = True)\n",
        "\n",
        "result = pd.concat([Actual_close, Predicted_close], axis=1, join=\"inner\")\n",
        "result"
      ]
    },
    {
      "cell_type": "markdown",
      "metadata": {
        "id": "9iNpsccxBcgr"
      },
      "source": [
        "Actual Close vs Predicted Close"
      ]
    },
    {
      "cell_type": "markdown",
      "metadata": {
        "id": "RhGQCNqvvOhE"
      },
      "source": [
        "**Predicting Close Price of the Airbnb Stock using custom input**"
      ]
    },
    {
      "cell_type": "code",
      "execution_count": 144,
      "metadata": {
        "colab": {
          "base_uri": "https://localhost:8080/"
        },
        "id": "x5WsHdiqss9g",
        "outputId": "14ef061a-ede5-47f1-b9c7-0ac5a49a9632"
      },
      "outputs": [
        {
          "name": "stdout",
          "output_type": "stream",
          "text": [
            "Enter the Open price of the Stock: 135.5\n",
            "Enter the Day's Low price of the Stock: 131.15\n",
            "Enter the Day's High price of the Stock: 145.16\n",
            "Predicted: 138.198\n"
          ]
        }
      ],
      "source": [
        "Open=float(input(\"Enter the Open price of the Stock: \"))\n",
        "Low=float(input(\"Enter the Day's Low price of the Stock: \"))\n",
        "High=float(input(\"Enter the Day's High price of the Stock: \"))\n",
        "row = [Open,High,Low]\n",
        "pd.DataFrame(row)\n",
        "new_data = asarray([row])\n",
        "\n",
        "# make a prediction\n",
        "yhat = model.predict(new_data)\n",
        "yhat = np.reshape(yhat, (yhat.shape[0], 1))\n",
        "yhat1=scaler.inverse_transform(yhat)\n",
        "# summarize prediction\n",
        "print('Predicted: %.3f' % yhat1)"
      ]
    }
  ],
  "metadata": {
    "colab": {
      "provenance": []
    },
    "kernelspec": {
      "display_name": "Python 3",
      "name": "python3"
    },
    "language_info": {
      "name": "python"
    }
  },
  "nbformat": 4,
  "nbformat_minor": 0
}
